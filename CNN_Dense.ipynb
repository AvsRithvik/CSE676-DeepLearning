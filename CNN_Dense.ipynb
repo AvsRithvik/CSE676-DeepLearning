{
  "cells": [
    {
      "cell_type": "markdown",
      "source": [
        "# Import & Installation"
      ],
      "metadata": {
        "id": "uzttqFqeTeo8"
      }
    },
    {
      "cell_type": "code",
      "execution_count": 1,
      "metadata": {
        "colab": {
          "base_uri": "https://localhost:8080/"
        },
        "id": "5zakCCezULlH",
        "outputId": "03a915e1-1e0b-4ab1-bc04-0fdbe6eb1f21"
      },
      "outputs": [
        {
          "output_type": "stream",
          "name": "stdout",
          "text": [
            "Mounted at /content/drive\n"
          ]
        }
      ],
      "source": [
        "from google.colab import drive\n",
        "drive.mount('/content/drive')"
      ]
    },
    {
      "cell_type": "code",
      "execution_count": 2,
      "metadata": {
        "id": "GHFv63Qceh2q",
        "colab": {
          "base_uri": "https://localhost:8080/"
        },
        "outputId": "97d07597-def4-4511-f63d-4da79832cfd3"
      },
      "outputs": [
        {
          "output_type": "stream",
          "name": "stdout",
          "text": [
            "Collecting tensorflow_addons\n",
            "  Downloading tensorflow_addons-0.17.0-cp37-cp37m-manylinux_2_17_x86_64.manylinux2014_x86_64.whl (1.1 MB)\n",
            "\u001b[?25l\r\u001b[K     |▎                               | 10 kB 28.9 MB/s eta 0:00:01\r\u001b[K     |▋                               | 20 kB 23.1 MB/s eta 0:00:01\r\u001b[K     |▉                               | 30 kB 17.6 MB/s eta 0:00:01\r\u001b[K     |█▏                              | 40 kB 15.6 MB/s eta 0:00:01\r\u001b[K     |█▌                              | 51 kB 7.3 MB/s eta 0:00:01\r\u001b[K     |█▊                              | 61 kB 8.6 MB/s eta 0:00:01\r\u001b[K     |██                              | 71 kB 7.8 MB/s eta 0:00:01\r\u001b[K     |██▍                             | 81 kB 8.8 MB/s eta 0:00:01\r\u001b[K     |██▋                             | 92 kB 9.8 MB/s eta 0:00:01\r\u001b[K     |███                             | 102 kB 8.1 MB/s eta 0:00:01\r\u001b[K     |███▎                            | 112 kB 8.1 MB/s eta 0:00:01\r\u001b[K     |███▌                            | 122 kB 8.1 MB/s eta 0:00:01\r\u001b[K     |███▉                            | 133 kB 8.1 MB/s eta 0:00:01\r\u001b[K     |████▏                           | 143 kB 8.1 MB/s eta 0:00:01\r\u001b[K     |████▍                           | 153 kB 8.1 MB/s eta 0:00:01\r\u001b[K     |████▊                           | 163 kB 8.1 MB/s eta 0:00:01\r\u001b[K     |█████                           | 174 kB 8.1 MB/s eta 0:00:01\r\u001b[K     |█████▎                          | 184 kB 8.1 MB/s eta 0:00:01\r\u001b[K     |█████▋                          | 194 kB 8.1 MB/s eta 0:00:01\r\u001b[K     |██████                          | 204 kB 8.1 MB/s eta 0:00:01\r\u001b[K     |██████▏                         | 215 kB 8.1 MB/s eta 0:00:01\r\u001b[K     |██████▌                         | 225 kB 8.1 MB/s eta 0:00:01\r\u001b[K     |██████▉                         | 235 kB 8.1 MB/s eta 0:00:01\r\u001b[K     |███████                         | 245 kB 8.1 MB/s eta 0:00:01\r\u001b[K     |███████▍                        | 256 kB 8.1 MB/s eta 0:00:01\r\u001b[K     |███████▋                        | 266 kB 8.1 MB/s eta 0:00:01\r\u001b[K     |████████                        | 276 kB 8.1 MB/s eta 0:00:01\r\u001b[K     |████████▎                       | 286 kB 8.1 MB/s eta 0:00:01\r\u001b[K     |████████▌                       | 296 kB 8.1 MB/s eta 0:00:01\r\u001b[K     |████████▉                       | 307 kB 8.1 MB/s eta 0:00:01\r\u001b[K     |█████████▏                      | 317 kB 8.1 MB/s eta 0:00:01\r\u001b[K     |█████████▍                      | 327 kB 8.1 MB/s eta 0:00:01\r\u001b[K     |█████████▊                      | 337 kB 8.1 MB/s eta 0:00:01\r\u001b[K     |██████████                      | 348 kB 8.1 MB/s eta 0:00:01\r\u001b[K     |██████████▎                     | 358 kB 8.1 MB/s eta 0:00:01\r\u001b[K     |██████████▋                     | 368 kB 8.1 MB/s eta 0:00:01\r\u001b[K     |███████████                     | 378 kB 8.1 MB/s eta 0:00:01\r\u001b[K     |███████████▏                    | 389 kB 8.1 MB/s eta 0:00:01\r\u001b[K     |███████████▌                    | 399 kB 8.1 MB/s eta 0:00:01\r\u001b[K     |███████████▉                    | 409 kB 8.1 MB/s eta 0:00:01\r\u001b[K     |████████████                    | 419 kB 8.1 MB/s eta 0:00:01\r\u001b[K     |████████████▍                   | 430 kB 8.1 MB/s eta 0:00:01\r\u001b[K     |████████████▊                   | 440 kB 8.1 MB/s eta 0:00:01\r\u001b[K     |█████████████                   | 450 kB 8.1 MB/s eta 0:00:01\r\u001b[K     |█████████████▎                  | 460 kB 8.1 MB/s eta 0:00:01\r\u001b[K     |█████████████▋                  | 471 kB 8.1 MB/s eta 0:00:01\r\u001b[K     |█████████████▉                  | 481 kB 8.1 MB/s eta 0:00:01\r\u001b[K     |██████████████▏                 | 491 kB 8.1 MB/s eta 0:00:01\r\u001b[K     |██████████████▍                 | 501 kB 8.1 MB/s eta 0:00:01\r\u001b[K     |██████████████▊                 | 512 kB 8.1 MB/s eta 0:00:01\r\u001b[K     |███████████████                 | 522 kB 8.1 MB/s eta 0:00:01\r\u001b[K     |███████████████▎                | 532 kB 8.1 MB/s eta 0:00:01\r\u001b[K     |███████████████▋                | 542 kB 8.1 MB/s eta 0:00:01\r\u001b[K     |████████████████                | 552 kB 8.1 MB/s eta 0:00:01\r\u001b[K     |████████████████▏               | 563 kB 8.1 MB/s eta 0:00:01\r\u001b[K     |████████████████▌               | 573 kB 8.1 MB/s eta 0:00:01\r\u001b[K     |████████████████▉               | 583 kB 8.1 MB/s eta 0:00:01\r\u001b[K     |█████████████████               | 593 kB 8.1 MB/s eta 0:00:01\r\u001b[K     |█████████████████▍              | 604 kB 8.1 MB/s eta 0:00:01\r\u001b[K     |█████████████████▊              | 614 kB 8.1 MB/s eta 0:00:01\r\u001b[K     |██████████████████              | 624 kB 8.1 MB/s eta 0:00:01\r\u001b[K     |██████████████████▎             | 634 kB 8.1 MB/s eta 0:00:01\r\u001b[K     |██████████████████▋             | 645 kB 8.1 MB/s eta 0:00:01\r\u001b[K     |██████████████████▉             | 655 kB 8.1 MB/s eta 0:00:01\r\u001b[K     |███████████████████▏            | 665 kB 8.1 MB/s eta 0:00:01\r\u001b[K     |███████████████████▌            | 675 kB 8.1 MB/s eta 0:00:01\r\u001b[K     |███████████████████▊            | 686 kB 8.1 MB/s eta 0:00:01\r\u001b[K     |████████████████████            | 696 kB 8.1 MB/s eta 0:00:01\r\u001b[K     |████████████████████▍           | 706 kB 8.1 MB/s eta 0:00:01\r\u001b[K     |████████████████████▋           | 716 kB 8.1 MB/s eta 0:00:01\r\u001b[K     |█████████████████████           | 727 kB 8.1 MB/s eta 0:00:01\r\u001b[K     |█████████████████████▏          | 737 kB 8.1 MB/s eta 0:00:01\r\u001b[K     |█████████████████████▌          | 747 kB 8.1 MB/s eta 0:00:01\r\u001b[K     |█████████████████████▉          | 757 kB 8.1 MB/s eta 0:00:01\r\u001b[K     |██████████████████████          | 768 kB 8.1 MB/s eta 0:00:01\r\u001b[K     |██████████████████████▍         | 778 kB 8.1 MB/s eta 0:00:01\r\u001b[K     |██████████████████████▊         | 788 kB 8.1 MB/s eta 0:00:01\r\u001b[K     |███████████████████████         | 798 kB 8.1 MB/s eta 0:00:01\r\u001b[K     |███████████████████████▎        | 808 kB 8.1 MB/s eta 0:00:01\r\u001b[K     |███████████████████████▋        | 819 kB 8.1 MB/s eta 0:00:01\r\u001b[K     |███████████████████████▉        | 829 kB 8.1 MB/s eta 0:00:01\r\u001b[K     |████████████████████████▏       | 839 kB 8.1 MB/s eta 0:00:01\r\u001b[K     |████████████████████████▌       | 849 kB 8.1 MB/s eta 0:00:01\r\u001b[K     |████████████████████████▊       | 860 kB 8.1 MB/s eta 0:00:01\r\u001b[K     |█████████████████████████       | 870 kB 8.1 MB/s eta 0:00:01\r\u001b[K     |█████████████████████████▍      | 880 kB 8.1 MB/s eta 0:00:01\r\u001b[K     |█████████████████████████▋      | 890 kB 8.1 MB/s eta 0:00:01\r\u001b[K     |██████████████████████████      | 901 kB 8.1 MB/s eta 0:00:01\r\u001b[K     |██████████████████████████▎     | 911 kB 8.1 MB/s eta 0:00:01\r\u001b[K     |██████████████████████████▌     | 921 kB 8.1 MB/s eta 0:00:01\r\u001b[K     |██████████████████████████▉     | 931 kB 8.1 MB/s eta 0:00:01\r\u001b[K     |███████████████████████████▏    | 942 kB 8.1 MB/s eta 0:00:01\r\u001b[K     |███████████████████████████▍    | 952 kB 8.1 MB/s eta 0:00:01\r\u001b[K     |███████████████████████████▊    | 962 kB 8.1 MB/s eta 0:00:01\r\u001b[K     |████████████████████████████    | 972 kB 8.1 MB/s eta 0:00:01\r\u001b[K     |████████████████████████████▎   | 983 kB 8.1 MB/s eta 0:00:01\r\u001b[K     |████████████████████████████▋   | 993 kB 8.1 MB/s eta 0:00:01\r\u001b[K     |████████████████████████████▉   | 1.0 MB 8.1 MB/s eta 0:00:01\r\u001b[K     |█████████████████████████████▏  | 1.0 MB 8.1 MB/s eta 0:00:01\r\u001b[K     |█████████████████████████████▌  | 1.0 MB 8.1 MB/s eta 0:00:01\r\u001b[K     |█████████████████████████████▊  | 1.0 MB 8.1 MB/s eta 0:00:01\r\u001b[K     |██████████████████████████████  | 1.0 MB 8.1 MB/s eta 0:00:01\r\u001b[K     |██████████████████████████████▍ | 1.1 MB 8.1 MB/s eta 0:00:01\r\u001b[K     |██████████████████████████████▋ | 1.1 MB 8.1 MB/s eta 0:00:01\r\u001b[K     |███████████████████████████████ | 1.1 MB 8.1 MB/s eta 0:00:01\r\u001b[K     |███████████████████████████████▎| 1.1 MB 8.1 MB/s eta 0:00:01\r\u001b[K     |███████████████████████████████▌| 1.1 MB 8.1 MB/s eta 0:00:01\r\u001b[K     |███████████████████████████████▉| 1.1 MB 8.1 MB/s eta 0:00:01\r\u001b[K     |████████████████████████████████| 1.1 MB 8.1 MB/s \n",
            "\u001b[?25hRequirement already satisfied: typeguard>=2.7 in /usr/local/lib/python3.7/dist-packages (from tensorflow_addons) (2.7.1)\n",
            "Requirement already satisfied: packaging in /usr/local/lib/python3.7/dist-packages (from tensorflow_addons) (21.3)\n",
            "Requirement already satisfied: pyparsing!=3.0.5,>=2.0.2 in /usr/local/lib/python3.7/dist-packages (from packaging->tensorflow_addons) (3.0.9)\n",
            "Installing collected packages: tensorflow-addons\n",
            "Successfully installed tensorflow-addons-0.17.0\n"
          ]
        }
      ],
      "source": [
        "# Load the TensorBoard notebook extension\n",
        "%load_ext tensorboard\n",
        "# Install the package\n",
        "!pip install tensorflow_addons"
      ]
    },
    {
      "cell_type": "code",
      "execution_count": 3,
      "metadata": {
        "id": "weDOC43JM1Ff"
      },
      "outputs": [],
      "source": [
        "import os\n",
        "import re\n",
        "import pandas as pd\n",
        "import numpy as np\n",
        "import cv2\n",
        "import time\n",
        "import datetime\n",
        "from keras.applications.vgg16 import preprocess_input\n",
        "pd.set_option('display.max_colwidth', 200)\n",
        "\n",
        "import tarfile\n",
        "import scipy.io\n",
        "\n",
        "import matplotlib.pyplot as plt\n",
        "\n",
        "\n",
        "import tensorflow as tf\n",
        "from tensorflow import keras\n",
        "from tensorflow.keras.callbacks import *\n",
        "from tensorflow.keras.applications import DenseNet201\n",
        "from tensorflow.keras.layers import Dense, Dropout, GlobalAveragePooling2D, BatchNormalization\n",
        "from tensorflow.keras.optimizers import SGD\n",
        "from tensorflow.keras import activations as Ac\n",
        "from tensorflow.keras.utils import to_categorical\n",
        "\n",
        "import tensorflow_addons as tfa\n",
        "\n",
        "from keras.models import load_model\n",
        "\n",
        "AUTO = tf.data.experimental.AUTOTUNE"
      ]
    },
    {
      "cell_type": "markdown",
      "source": [
        "# Preprocessing"
      ],
      "metadata": {
        "id": "M8BDkJyDTtHD"
      }
    },
    {
      "cell_type": "code",
      "execution_count": 4,
      "metadata": {
        "id": "-mjJ04BKM4af",
        "colab": {
          "base_uri": "https://localhost:8080/",
          "height": 363
        },
        "outputId": "e6c48f6d-61b9-44bc-a45d-ba39ae772575"
      },
      "outputs": [
        {
          "output_type": "execute_result",
          "data": {
            "text/plain": [
              "      filename  Classes  Labels\n",
              "0  1025794.jpg  707-320       0\n",
              "1  1340192.jpg  707-320       0\n",
              "2  0056978.jpg  707-320       0\n",
              "3  0698580.jpg  707-320       0\n",
              "4  0450014.jpg  707-320       0\n",
              "5  1042824.jpg  707-320       0\n",
              "6  0894380.jpg  707-320       0\n",
              "7  1427680.jpg  707-320       0\n",
              "8  0817494.jpg  707-320       0\n",
              "9  0716386.jpg  707-320       0"
            ],
            "text/html": [
              "\n",
              "  <div id=\"df-82f23683-8ffb-4b3a-af17-68914fd5915c\">\n",
              "    <div class=\"colab-df-container\">\n",
              "      <div>\n",
              "<style scoped>\n",
              "    .dataframe tbody tr th:only-of-type {\n",
              "        vertical-align: middle;\n",
              "    }\n",
              "\n",
              "    .dataframe tbody tr th {\n",
              "        vertical-align: top;\n",
              "    }\n",
              "\n",
              "    .dataframe thead th {\n",
              "        text-align: right;\n",
              "    }\n",
              "</style>\n",
              "<table border=\"1\" class=\"dataframe\">\n",
              "  <thead>\n",
              "    <tr style=\"text-align: right;\">\n",
              "      <th></th>\n",
              "      <th>filename</th>\n",
              "      <th>Classes</th>\n",
              "      <th>Labels</th>\n",
              "    </tr>\n",
              "  </thead>\n",
              "  <tbody>\n",
              "    <tr>\n",
              "      <th>0</th>\n",
              "      <td>1025794.jpg</td>\n",
              "      <td>707-320</td>\n",
              "      <td>0</td>\n",
              "    </tr>\n",
              "    <tr>\n",
              "      <th>1</th>\n",
              "      <td>1340192.jpg</td>\n",
              "      <td>707-320</td>\n",
              "      <td>0</td>\n",
              "    </tr>\n",
              "    <tr>\n",
              "      <th>2</th>\n",
              "      <td>0056978.jpg</td>\n",
              "      <td>707-320</td>\n",
              "      <td>0</td>\n",
              "    </tr>\n",
              "    <tr>\n",
              "      <th>3</th>\n",
              "      <td>0698580.jpg</td>\n",
              "      <td>707-320</td>\n",
              "      <td>0</td>\n",
              "    </tr>\n",
              "    <tr>\n",
              "      <th>4</th>\n",
              "      <td>0450014.jpg</td>\n",
              "      <td>707-320</td>\n",
              "      <td>0</td>\n",
              "    </tr>\n",
              "    <tr>\n",
              "      <th>5</th>\n",
              "      <td>1042824.jpg</td>\n",
              "      <td>707-320</td>\n",
              "      <td>0</td>\n",
              "    </tr>\n",
              "    <tr>\n",
              "      <th>6</th>\n",
              "      <td>0894380.jpg</td>\n",
              "      <td>707-320</td>\n",
              "      <td>0</td>\n",
              "    </tr>\n",
              "    <tr>\n",
              "      <th>7</th>\n",
              "      <td>1427680.jpg</td>\n",
              "      <td>707-320</td>\n",
              "      <td>0</td>\n",
              "    </tr>\n",
              "    <tr>\n",
              "      <th>8</th>\n",
              "      <td>0817494.jpg</td>\n",
              "      <td>707-320</td>\n",
              "      <td>0</td>\n",
              "    </tr>\n",
              "    <tr>\n",
              "      <th>9</th>\n",
              "      <td>0716386.jpg</td>\n",
              "      <td>707-320</td>\n",
              "      <td>0</td>\n",
              "    </tr>\n",
              "  </tbody>\n",
              "</table>\n",
              "</div>\n",
              "      <button class=\"colab-df-convert\" onclick=\"convertToInteractive('df-82f23683-8ffb-4b3a-af17-68914fd5915c')\"\n",
              "              title=\"Convert this dataframe to an interactive table.\"\n",
              "              style=\"display:none;\">\n",
              "        \n",
              "  <svg xmlns=\"http://www.w3.org/2000/svg\" height=\"24px\"viewBox=\"0 0 24 24\"\n",
              "       width=\"24px\">\n",
              "    <path d=\"M0 0h24v24H0V0z\" fill=\"none\"/>\n",
              "    <path d=\"M18.56 5.44l.94 2.06.94-2.06 2.06-.94-2.06-.94-.94-2.06-.94 2.06-2.06.94zm-11 1L8.5 8.5l.94-2.06 2.06-.94-2.06-.94L8.5 2.5l-.94 2.06-2.06.94zm10 10l.94 2.06.94-2.06 2.06-.94-2.06-.94-.94-2.06-.94 2.06-2.06.94z\"/><path d=\"M17.41 7.96l-1.37-1.37c-.4-.4-.92-.59-1.43-.59-.52 0-1.04.2-1.43.59L10.3 9.45l-7.72 7.72c-.78.78-.78 2.05 0 2.83L4 21.41c.39.39.9.59 1.41.59.51 0 1.02-.2 1.41-.59l7.78-7.78 2.81-2.81c.8-.78.8-2.07 0-2.86zM5.41 20L4 18.59l7.72-7.72 1.47 1.35L5.41 20z\"/>\n",
              "  </svg>\n",
              "      </button>\n",
              "      \n",
              "  <style>\n",
              "    .colab-df-container {\n",
              "      display:flex;\n",
              "      flex-wrap:wrap;\n",
              "      gap: 12px;\n",
              "    }\n",
              "\n",
              "    .colab-df-convert {\n",
              "      background-color: #E8F0FE;\n",
              "      border: none;\n",
              "      border-radius: 50%;\n",
              "      cursor: pointer;\n",
              "      display: none;\n",
              "      fill: #1967D2;\n",
              "      height: 32px;\n",
              "      padding: 0 0 0 0;\n",
              "      width: 32px;\n",
              "    }\n",
              "\n",
              "    .colab-df-convert:hover {\n",
              "      background-color: #E2EBFA;\n",
              "      box-shadow: 0px 1px 2px rgba(60, 64, 67, 0.3), 0px 1px 3px 1px rgba(60, 64, 67, 0.15);\n",
              "      fill: #174EA6;\n",
              "    }\n",
              "\n",
              "    [theme=dark] .colab-df-convert {\n",
              "      background-color: #3B4455;\n",
              "      fill: #D2E3FC;\n",
              "    }\n",
              "\n",
              "    [theme=dark] .colab-df-convert:hover {\n",
              "      background-color: #434B5C;\n",
              "      box-shadow: 0px 1px 3px 1px rgba(0, 0, 0, 0.15);\n",
              "      filter: drop-shadow(0px 1px 2px rgba(0, 0, 0, 0.3));\n",
              "      fill: #FFFFFF;\n",
              "    }\n",
              "  </style>\n",
              "\n",
              "      <script>\n",
              "        const buttonEl =\n",
              "          document.querySelector('#df-82f23683-8ffb-4b3a-af17-68914fd5915c button.colab-df-convert');\n",
              "        buttonEl.style.display =\n",
              "          google.colab.kernel.accessAllowed ? 'block' : 'none';\n",
              "\n",
              "        async function convertToInteractive(key) {\n",
              "          const element = document.querySelector('#df-82f23683-8ffb-4b3a-af17-68914fd5915c');\n",
              "          const dataTable =\n",
              "            await google.colab.kernel.invokeFunction('convertToInteractive',\n",
              "                                                     [key], {});\n",
              "          if (!dataTable) return;\n",
              "\n",
              "          const docLinkHtml = 'Like what you see? Visit the ' +\n",
              "            '<a target=\"_blank\" href=https://colab.research.google.com/notebooks/data_table.ipynb>data table notebook</a>'\n",
              "            + ' to learn more about interactive tables.';\n",
              "          element.innerHTML = '';\n",
              "          dataTable['output_type'] = 'display_data';\n",
              "          await google.colab.output.renderOutput(dataTable, element);\n",
              "          const docLink = document.createElement('div');\n",
              "          docLink.innerHTML = docLinkHtml;\n",
              "          element.appendChild(docLink);\n",
              "        }\n",
              "      </script>\n",
              "    </div>\n",
              "  </div>\n",
              "  "
            ]
          },
          "metadata": {},
          "execution_count": 4
        }
      ],
      "source": [
        "dataset_path = '/content/drive/MyDrive/DeepLearning/fgvc-aircraft-2013b/data'\n",
        "train = pd.read_csv(dataset_path+'/train.csv')\n",
        "val = pd.read_csv(dataset_path+'/val.csv')\n",
        "test = pd.read_csv(dataset_path+'/test.csv') \n",
        "train.head(10)"
      ]
    },
    {
      "cell_type": "code",
      "execution_count": 6,
      "metadata": {
        "id": "FpdtLMuaM_vX"
      },
      "outputs": [],
      "source": [
        "image_path = \"/content/drive/MyDrive/DeepLearning/fgvc-aircraft-2013b/data/images\"\n",
        "\n",
        "train_paths = train.filename.apply(lambda x: os.path.join(image_path, x))\n",
        "val_paths = val.filename.apply(lambda x: os.path.join(image_path, x))\n",
        "test_paths = test.filename.apply(lambda x: os.path.join(image_path, x))"
      ]
    },
    {
      "cell_type": "code",
      "source": [
        "#One Hot Encoding of the labels\n",
        "train_labels = to_categorical(train.Labels) \n",
        "val_labels = to_categorical(val.Labels)\n",
        "test_labels = to_categorical(test.Labels)"
      ],
      "metadata": {
        "id": "ZzPhUMD9T5_j"
      },
      "execution_count": 7,
      "outputs": []
    },
    {
      "cell_type": "code",
      "execution_count": 8,
      "metadata": {
        "id": "EfO4wiTZNK-q"
      },
      "outputs": [],
      "source": [
        "def image_decode(filename, label=None, size=(299, 299)):\n",
        "    bits = tf.io.read_file(filename)\n",
        "    image = tf.image.decode_jpeg(bits, channels=3)\n",
        "    image = tf.cast(image, tf.float32) / 255.0\n",
        "    image = tf.image.resize(image, size)\n",
        "    \n",
        "    if label is None:\n",
        "        return image\n",
        "    else:\n",
        "        return image, label\n",
        "\n",
        "def image_augmentation(image, label=None):\n",
        "    image = tf.image.random_flip_left_right(image)\n",
        "    \n",
        "    if label is None:\n",
        "        return image\n",
        "    else:\n",
        "        return image, label"
      ]
    },
    {
      "cell_type": "code",
      "execution_count": 9,
      "metadata": {
        "id": "TYk9kx8hNZlM"
      },
      "outputs": [],
      "source": [
        "batch_size = 16\n",
        "\n",
        "train_dataset = (\n",
        "    tf.data.Dataset\n",
        "    .from_tensor_slices((train_paths, train_labels))\n",
        "    .map(image_decode, num_parallel_calls=AUTO)\n",
        "    .map(image_augmentation, num_parallel_calls=AUTO)\n",
        "    .repeat()\n",
        "    .shuffle(2048)\n",
        "    .batch(batch_size)\n",
        "    .prefetch(AUTO)\n",
        ")\n",
        "\n",
        "val_dataset = (tf.data.Dataset\n",
        "        .from_tensor_slices((val_paths, val_labels))\n",
        "        .map(image_decode, num_parallel_calls=AUTO)\n",
        "        .batch(batch_size)\n",
        ")\n",
        "\n",
        "test_dataset = (tf.data.Dataset\n",
        "        .from_tensor_slices(test_paths)\n",
        "        .map(image_decode, num_parallel_calls=AUTO)\n",
        "        .batch(batch_size)\n",
        ")"
      ]
    },
    {
      "cell_type": "markdown",
      "source": [
        "# CNN Model - DenseNet201"
      ],
      "metadata": {
        "id": "7g8tWA-PUJUi"
      }
    },
    {
      "cell_type": "code",
      "execution_count": 10,
      "metadata": {
        "colab": {
          "base_uri": "https://localhost:8080/"
        },
        "id": "SqsEN_rgNbSi",
        "outputId": "064e87e2-b8ba-4d43-c14f-83d9446e8b80"
      },
      "outputs": [
        {
          "output_type": "stream",
          "name": "stdout",
          "text": [
            "Downloading data from https://storage.googleapis.com/tensorflow/keras-applications/densenet/densenet201_weights_tf_dim_ordering_tf_kernels_notop.h5\n",
            "74842112/74836368 [==============================] - 0s 0us/step\n",
            "74850304/74836368 [==============================] - 0s 0us/step\n",
            "Model: \"sequential\"\n",
            "_________________________________________________________________\n",
            " Layer (type)                Output Shape              Param #   \n",
            "=================================================================\n",
            " densenet201 (Functional)    (None, 9, 9, 1920)        18321984  \n",
            "                                                                 \n",
            " global_average_pooling2d (G  (None, 1920)             0         \n",
            " lobalAveragePooling2D)                                          \n",
            "                                                                 \n",
            " dense (Dense)               (None, 1024)              1967104   \n",
            "                                                                 \n",
            " batch_normalization (BatchN  (None, 1024)             4096      \n",
            " ormalization)                                                   \n",
            "                                                                 \n",
            " dropout (Dropout)           (None, 1024)              0         \n",
            "                                                                 \n",
            " dense_1 (Dense)             (None, 512)               524800    \n",
            "                                                                 \n",
            " batch_normalization_1 (Batc  (None, 512)              2048      \n",
            " hNormalization)                                                 \n",
            "                                                                 \n",
            " dropout_1 (Dropout)         (None, 512)               0         \n",
            "                                                                 \n",
            " dense_2 (Dense)             (None, 256)               131328    \n",
            "                                                                 \n",
            " batch_normalization_2 (Batc  (None, 256)              1024      \n",
            " hNormalization)                                                 \n",
            "                                                                 \n",
            " dropout_2 (Dropout)         (None, 256)               0         \n",
            "                                                                 \n",
            " dense_3 (Dense)             (None, 100)               25700     \n",
            "                                                                 \n",
            "=================================================================\n",
            "Total params: 20,978,084\n",
            "Trainable params: 20,745,444\n",
            "Non-trainable params: 232,640\n",
            "_________________________________________________________________\n"
          ]
        }
      ],
      "source": [
        "model = tf.keras.Sequential([\n",
        "        DenseNet201(weights = 'imagenet', include_top = False, input_shape = (299, 299, 3)),\n",
        "        \n",
        "        # Layer 1\n",
        "        GlobalAveragePooling2D(),\n",
        "        Dense(1024, activation = 'tanh'),\n",
        "        BatchNormalization(),\n",
        "        Dropout(0.5),\n",
        "        # Layer 2\n",
        "        Dense(512, activation = 'tanh'),\n",
        "        BatchNormalization(),\n",
        "        Dropout(0.5),\n",
        "        # Layer 3\n",
        "        Dense(256, activation = 'tanh'),\n",
        "        BatchNormalization(),\n",
        "        Dropout(0.5),\n",
        "        # Output Layer\n",
        "        Dense(100, activation = 'softmax')\n",
        "])\n",
        "\n",
        "# Optimizer - SGD\n",
        "# Loss - Categorical crossentropy\n",
        "# Metrics - Accuracy\n",
        "optim = tf.keras.optimizers.SGD()\n",
        "model.compile(optimizer = optim,\n",
        "              loss = 'categorical_crossentropy',\n",
        "              metrics = ['accuracy'])\n",
        "# Model Summary    \n",
        "model.summary()"
      ]
    },
    {
      "cell_type": "markdown",
      "source": [
        "# Training"
      ],
      "metadata": {
        "id": "zIQYnea0UR0q"
      }
    },
    {
      "cell_type": "code",
      "execution_count": null,
      "metadata": {
        "colab": {
          "base_uri": "https://localhost:8080/"
        },
        "id": "rG-hkw1JNlne",
        "outputId": "1519fe75-fd8b-4da5-9f74-6b4e0f4004c3"
      },
      "outputs": [
        {
          "output_type": "stream",
          "name": "stdout",
          "text": [
            "Training...\n",
            "Epoch 1/100\n",
            "208/208 [==============================] - 123s 409ms/step - loss: 5.6483 - accuracy: 0.0165 - val_loss: 4.8369 - val_accuracy: 0.0168\n",
            "Epoch 2/100\n",
            "208/208 [==============================] - 81s 389ms/step - loss: 5.1785 - accuracy: 0.0288 - val_loss: 5.0739 - val_accuracy: 0.0216\n",
            "Epoch 3/100\n",
            "208/208 [==============================] - 81s 389ms/step - loss: 4.6613 - accuracy: 0.0493 - val_loss: 3.8939 - val_accuracy: 0.0810\n",
            "Epoch 4/100\n",
            "208/208 [==============================] - 81s 391ms/step - loss: 4.1960 - accuracy: 0.0700 - val_loss: 3.6081 - val_accuracy: 0.1212\n",
            "Epoch 5/100\n",
            "208/208 [==============================] - 81s 388ms/step - loss: 3.7310 - accuracy: 0.1184 - val_loss: 3.0735 - val_accuracy: 0.1974\n",
            "Epoch 6/100\n",
            "208/208 [==============================] - 81s 390ms/step - loss: 3.3636 - accuracy: 0.1532 - val_loss: 2.8828 - val_accuracy: 0.2235\n",
            "Epoch 7/100\n",
            "208/208 [==============================] - 81s 388ms/step - loss: 3.0451 - accuracy: 0.1944 - val_loss: 2.6234 - val_accuracy: 0.2916\n",
            "Epoch 8/100\n",
            "208/208 [==============================] - 81s 388ms/step - loss: 2.7495 - accuracy: 0.2494 - val_loss: 2.4684 - val_accuracy: 0.2832\n",
            "Epoch 9/100\n",
            "208/208 [==============================] - 81s 390ms/step - loss: 2.4961 - accuracy: 0.3026 - val_loss: 2.0406 - val_accuracy: 0.4143\n",
            "Epoch 10/100\n",
            "208/208 [==============================] - 81s 390ms/step - loss: 2.2223 - accuracy: 0.3588 - val_loss: 1.8921 - val_accuracy: 0.4452\n",
            "Epoch 11/100\n",
            "208/208 [==============================] - 84s 405ms/step - loss: 2.0247 - accuracy: 0.4044 - val_loss: 1.8735 - val_accuracy: 0.4779\n",
            "Epoch 12/100\n",
            "208/208 [==============================] - 81s 388ms/step - loss: 1.8398 - accuracy: 0.4531 - val_loss: 1.6395 - val_accuracy: 0.5101\n",
            "Epoch 13/100\n",
            "208/208 [==============================] - 81s 391ms/step - loss: 1.6332 - accuracy: 0.5027 - val_loss: 1.6797 - val_accuracy: 0.5059\n",
            "Epoch 14/100\n",
            "208/208 [==============================] - 81s 389ms/step - loss: 1.4753 - accuracy: 0.5505 - val_loss: 1.5429 - val_accuracy: 0.5440\n",
            "Epoch 15/100\n",
            "208/208 [==============================] - 80s 387ms/step - loss: 1.2815 - accuracy: 0.5989 - val_loss: 1.5821 - val_accuracy: 0.5503\n",
            "Epoch 16/100\n",
            "208/208 [==============================] - 80s 386ms/step - loss: 1.2243 - accuracy: 0.6295 - val_loss: 1.8436 - val_accuracy: 0.5038\n",
            "Epoch 17/100\n",
            "208/208 [==============================] - 81s 389ms/step - loss: 1.0369 - accuracy: 0.6776 - val_loss: 1.4366 - val_accuracy: 0.5836\n",
            "Epoch 18/100\n",
            "208/208 [==============================] - 81s 390ms/step - loss: 0.9581 - accuracy: 0.7136 - val_loss: 1.1618 - val_accuracy: 0.6583\n",
            "Epoch 19/100\n",
            "208/208 [==============================] - 80s 386ms/step - loss: 0.8717 - accuracy: 0.7347 - val_loss: 1.3192 - val_accuracy: 0.6229\n",
            "Epoch 20/100\n",
            "208/208 [==============================] - 80s 385ms/step - loss: 0.7884 - accuracy: 0.7560 - val_loss: 1.2499 - val_accuracy: 0.6499\n",
            "Epoch 21/100\n",
            "208/208 [==============================] - 80s 386ms/step - loss: 0.7142 - accuracy: 0.7785 - val_loss: 1.1471 - val_accuracy: 0.6820\n",
            "Epoch 22/100\n",
            "208/208 [==============================] - 81s 391ms/step - loss: 0.6237 - accuracy: 0.8158 - val_loss: 1.0727 - val_accuracy: 0.6940\n",
            "Epoch 23/100\n",
            "208/208 [==============================] - 81s 388ms/step - loss: 0.5637 - accuracy: 0.8272 - val_loss: 1.0623 - val_accuracy: 0.7066\n",
            "Epoch 24/100\n",
            "208/208 [==============================] - 81s 390ms/step - loss: 0.5392 - accuracy: 0.8356 - val_loss: 1.0986 - val_accuracy: 0.7048\n",
            "Epoch 25/100\n",
            "208/208 [==============================] - 81s 390ms/step - loss: 0.4777 - accuracy: 0.8549 - val_loss: 1.1161 - val_accuracy: 0.7000\n",
            "Epoch 26/100\n",
            "208/208 [==============================] - 81s 390ms/step - loss: 0.4573 - accuracy: 0.8657 - val_loss: 1.0879 - val_accuracy: 0.7084\n",
            "Epoch 27/100\n",
            "208/208 [==============================] - 81s 389ms/step - loss: 0.3674 - accuracy: 0.9029 - val_loss: 1.0813 - val_accuracy: 0.7165\n",
            "Epoch 28/100\n",
            "208/208 [==============================] - 81s 389ms/step - loss: 0.3619 - accuracy: 0.8963 - val_loss: 1.0909 - val_accuracy: 0.7204\n",
            "Epoch 29/100\n",
            "208/208 [==============================] - 81s 391ms/step - loss: 0.3301 - accuracy: 0.9108 - val_loss: 1.2533 - val_accuracy: 0.6883\n",
            "Epoch 30/100\n",
            "208/208 [==============================] - 81s 390ms/step - loss: 0.2876 - accuracy: 0.9201 - val_loss: 1.0354 - val_accuracy: 0.7309\n",
            "Epoch 31/100\n",
            "208/208 [==============================] - 82s 392ms/step - loss: 0.2631 - accuracy: 0.9339 - val_loss: 1.1223 - val_accuracy: 0.7198\n",
            "Epoch 32/100\n",
            "208/208 [==============================] - 82s 393ms/step - loss: 0.2268 - accuracy: 0.9438 - val_loss: 1.0787 - val_accuracy: 0.7327\n",
            "Epoch 33/100\n",
            "208/208 [==============================] - 82s 394ms/step - loss: 0.2095 - accuracy: 0.9558 - val_loss: 1.0929 - val_accuracy: 0.7333\n",
            "Epoch 34/100\n",
            "208/208 [==============================] - 82s 394ms/step - loss: 0.1989 - accuracy: 0.9570 - val_loss: 1.0564 - val_accuracy: 0.7474\n",
            "Epoch 35/100\n",
            "208/208 [==============================] - 82s 393ms/step - loss: 0.1744 - accuracy: 0.9618 - val_loss: 1.1095 - val_accuracy: 0.7306\n",
            "Epoch 36/100\n",
            "208/208 [==============================] - 82s 393ms/step - loss: 0.1743 - accuracy: 0.9597 - val_loss: 0.9861 - val_accuracy: 0.7606\n",
            "Epoch 37/100\n",
            "208/208 [==============================] - 82s 393ms/step - loss: 0.1522 - accuracy: 0.9660 - val_loss: 1.0416 - val_accuracy: 0.7504\n",
            "Epoch 38/100\n",
            "208/208 [==============================] - 81s 392ms/step - loss: 0.1446 - accuracy: 0.9684 - val_loss: 1.0501 - val_accuracy: 0.7471\n",
            "Epoch 39/100\n",
            "208/208 [==============================] - 81s 391ms/step - loss: 0.1570 - accuracy: 0.9621 - val_loss: 1.0852 - val_accuracy: 0.7468\n",
            "Epoch 40/100\n",
            "208/208 [==============================] - 81s 392ms/step - loss: 0.1338 - accuracy: 0.9691 - val_loss: 1.0874 - val_accuracy: 0.7489\n",
            "Epoch 41/100\n",
            "208/208 [==============================] - 81s 390ms/step - loss: 0.1251 - accuracy: 0.9703 - val_loss: 1.0531 - val_accuracy: 0.7612\n",
            "Epoch 42/100\n",
            "208/208 [==============================] - 81s 389ms/step - loss: 0.1273 - accuracy: 0.9718 - val_loss: 1.2362 - val_accuracy: 0.7198\n",
            "Epoch 43/100\n",
            "208/208 [==============================] - 81s 389ms/step - loss: 0.1257 - accuracy: 0.9706 - val_loss: 1.1842 - val_accuracy: 0.7279\n",
            "Epoch 44/100\n",
            "208/208 [==============================] - 81s 391ms/step - loss: 0.1129 - accuracy: 0.9772 - val_loss: 1.0648 - val_accuracy: 0.7618\n",
            "Epoch 45/100\n",
            "208/208 [==============================] - 81s 391ms/step - loss: 0.0912 - accuracy: 0.9844 - val_loss: 1.0075 - val_accuracy: 0.7777\n",
            "Epoch 46/100\n",
            "208/208 [==============================] - 81s 390ms/step - loss: 0.0976 - accuracy: 0.9802 - val_loss: 1.0266 - val_accuracy: 0.7660\n",
            "Epoch 47/100\n",
            "208/208 [==============================] - 81s 390ms/step - loss: 0.0931 - accuracy: 0.9817 - val_loss: 1.0839 - val_accuracy: 0.7570\n",
            "Epoch 48/100\n",
            "208/208 [==============================] - 81s 391ms/step - loss: 0.0817 - accuracy: 0.9859 - val_loss: 1.0923 - val_accuracy: 0.7552\n",
            "Epoch 49/100\n",
            "208/208 [==============================] - 81s 390ms/step - loss: 0.0833 - accuracy: 0.9841 - val_loss: 1.0583 - val_accuracy: 0.7678\n",
            "Epoch 50/100\n",
            "208/208 [==============================] - 81s 389ms/step - loss: 0.0861 - accuracy: 0.9808 - val_loss: 0.9988 - val_accuracy: 0.7732\n",
            "Epoch 51/100\n",
            "208/208 [==============================] - 81s 390ms/step - loss: 0.0758 - accuracy: 0.9862 - val_loss: 1.0525 - val_accuracy: 0.7606\n",
            "Epoch 52/100\n",
            "208/208 [==============================] - 81s 390ms/step - loss: 0.0713 - accuracy: 0.9868 - val_loss: 1.0828 - val_accuracy: 0.7648\n",
            "Epoch 53/100\n",
            "208/208 [==============================] - 81s 390ms/step - loss: 0.0663 - accuracy: 0.9877 - val_loss: 1.0116 - val_accuracy: 0.7741\n",
            "Epoch 54/100\n",
            "208/208 [==============================] - 81s 390ms/step - loss: 0.0577 - accuracy: 0.9934 - val_loss: 0.9941 - val_accuracy: 0.7813\n",
            "Epoch 55/100\n",
            "208/208 [==============================] - 81s 392ms/step - loss: 0.0640 - accuracy: 0.9868 - val_loss: 1.0186 - val_accuracy: 0.7801\n",
            "Epoch 56/100\n",
            "208/208 [==============================] - 81s 391ms/step - loss: 0.0534 - accuracy: 0.9910 - val_loss: 1.0322 - val_accuracy: 0.7762\n",
            "Epoch 57/100\n",
            "208/208 [==============================] - 81s 391ms/step - loss: 0.0595 - accuracy: 0.9901 - val_loss: 1.0462 - val_accuracy: 0.7720\n",
            "Epoch 58/100\n",
            "208/208 [==============================] - 81s 392ms/step - loss: 0.0544 - accuracy: 0.9922 - val_loss: 0.9909 - val_accuracy: 0.7876\n",
            "Epoch 59/100\n",
            "208/208 [==============================] - 81s 391ms/step - loss: 0.0533 - accuracy: 0.9931 - val_loss: 1.0455 - val_accuracy: 0.7780\n",
            "Epoch 60/100\n",
            "208/208 [==============================] - 81s 391ms/step - loss: 0.0472 - accuracy: 0.9946 - val_loss: 1.0539 - val_accuracy: 0.7801\n",
            "Epoch 61/100\n",
            "208/208 [==============================] - 81s 391ms/step - loss: 0.0492 - accuracy: 0.9910 - val_loss: 1.0573 - val_accuracy: 0.7810\n",
            "Epoch 62/100\n",
            "208/208 [==============================] - 81s 390ms/step - loss: 0.0499 - accuracy: 0.9895 - val_loss: 1.0841 - val_accuracy: 0.7690\n",
            "Epoch 63/100\n",
            "208/208 [==============================] - 81s 391ms/step - loss: 0.0639 - accuracy: 0.9856 - val_loss: 1.1228 - val_accuracy: 0.7609\n",
            "Epoch 64/100\n",
            "208/208 [==============================] - 81s 391ms/step - loss: 0.0586 - accuracy: 0.9868 - val_loss: 1.0595 - val_accuracy: 0.7858\n",
            "Epoch 65/100\n",
            "208/208 [==============================] - 81s 390ms/step - loss: 0.0485 - accuracy: 0.9913 - val_loss: 1.1265 - val_accuracy: 0.7633\n",
            "Epoch 66/100\n",
            "208/208 [==============================] - 81s 391ms/step - loss: 0.0502 - accuracy: 0.9907 - val_loss: 1.0732 - val_accuracy: 0.7756\n",
            "Epoch 67/100\n",
            "208/208 [==============================] - 81s 392ms/step - loss: 0.0428 - accuracy: 0.9934 - val_loss: 1.0002 - val_accuracy: 0.7948\n",
            "Epoch 68/100\n",
            "208/208 [==============================] - 81s 390ms/step - loss: 0.0470 - accuracy: 0.9907 - val_loss: 1.1018 - val_accuracy: 0.7759\n",
            "Epoch 69/100\n",
            "208/208 [==============================] - 81s 391ms/step - loss: 0.0506 - accuracy: 0.9901 - val_loss: 1.1399 - val_accuracy: 0.7705\n",
            "Epoch 70/100\n",
            "208/208 [==============================] - 81s 392ms/step - loss: 0.0393 - accuracy: 0.9955 - val_loss: 1.1140 - val_accuracy: 0.7810\n",
            "Epoch 71/100\n",
            "208/208 [==============================] - 81s 391ms/step - loss: 0.0481 - accuracy: 0.9907 - val_loss: 1.1443 - val_accuracy: 0.7666\n",
            "Epoch 72/100\n",
            "208/208 [==============================] - 81s 391ms/step - loss: 0.0448 - accuracy: 0.9901 - val_loss: 1.1114 - val_accuracy: 0.7753\n",
            "Epoch 73/100\n",
            "208/208 [==============================] - 81s 390ms/step - loss: 0.0373 - accuracy: 0.9946 - val_loss: 1.0150 - val_accuracy: 0.7951\n",
            "Epoch 74/100\n",
            "208/208 [==============================] - 81s 392ms/step - loss: 0.0318 - accuracy: 0.9967 - val_loss: 1.0654 - val_accuracy: 0.7804\n",
            "Epoch 75/100\n",
            "208/208 [==============================] - 81s 392ms/step - loss: 0.0382 - accuracy: 0.9943 - val_loss: 1.0418 - val_accuracy: 0.7819\n",
            "Epoch 76/100\n",
            "208/208 [==============================] - 81s 391ms/step - loss: 0.0403 - accuracy: 0.9919 - val_loss: 1.1110 - val_accuracy: 0.7786\n",
            "Epoch 77/100\n",
            "208/208 [==============================] - 81s 391ms/step - loss: 0.0337 - accuracy: 0.9952 - val_loss: 1.1140 - val_accuracy: 0.7765\n",
            "Epoch 78/100\n",
            "208/208 [==============================] - 81s 392ms/step - loss: 0.0394 - accuracy: 0.9928 - val_loss: 1.0851 - val_accuracy: 0.7900\n",
            "Epoch 79/100\n",
            "208/208 [==============================] - 81s 392ms/step - loss: 0.0377 - accuracy: 0.9937 - val_loss: 1.0887 - val_accuracy: 0.7819\n",
            "Epoch 80/100\n",
            "208/208 [==============================] - 81s 391ms/step - loss: 0.0412 - accuracy: 0.9916 - val_loss: 1.0730 - val_accuracy: 0.7927\n",
            "Epoch 81/100\n",
            "208/208 [==============================] - 81s 392ms/step - loss: 0.0395 - accuracy: 0.9922 - val_loss: 1.0513 - val_accuracy: 0.7837\n",
            "Epoch 82/100\n",
            "208/208 [==============================] - 81s 391ms/step - loss: 0.0401 - accuracy: 0.9913 - val_loss: 1.1027 - val_accuracy: 0.7780\n",
            "Epoch 83/100\n",
            "208/208 [==============================] - 81s 391ms/step - loss: 0.0346 - accuracy: 0.9946 - val_loss: 1.0483 - val_accuracy: 0.7921\n",
            "Epoch 84/100\n",
            "208/208 [==============================] - 81s 391ms/step - loss: 0.0327 - accuracy: 0.9937 - val_loss: 1.1794 - val_accuracy: 0.7660\n",
            "Epoch 85/100\n",
            "208/208 [==============================] - 81s 389ms/step - loss: 0.0362 - accuracy: 0.9937 - val_loss: 1.0797 - val_accuracy: 0.7873\n",
            "Epoch 86/100\n",
            "208/208 [==============================] - 81s 388ms/step - loss: 0.0343 - accuracy: 0.9931 - val_loss: 1.1765 - val_accuracy: 0.7759\n",
            "Epoch 87/100\n",
            "208/208 [==============================] - 81s 389ms/step - loss: 0.0344 - accuracy: 0.9916 - val_loss: 1.1407 - val_accuracy: 0.7768\n",
            "Epoch 88/100\n",
            "208/208 [==============================] - 81s 388ms/step - loss: 0.0284 - accuracy: 0.9955 - val_loss: 1.0844 - val_accuracy: 0.7813\n",
            "Epoch 89/100\n",
            "208/208 [==============================] - 81s 390ms/step - loss: 0.0293 - accuracy: 0.9946 - val_loss: 1.0812 - val_accuracy: 0.7807\n",
            "Epoch 90/100\n",
            "208/208 [==============================] - 81s 389ms/step - loss: 0.0286 - accuracy: 0.9955 - val_loss: 1.1683 - val_accuracy: 0.7777\n",
            "Epoch 91/100\n",
            "208/208 [==============================] - 81s 388ms/step - loss: 0.0289 - accuracy: 0.9958 - val_loss: 1.0825 - val_accuracy: 0.7885\n",
            "Epoch 92/100\n",
            "208/208 [==============================] - 81s 390ms/step - loss: 0.0251 - accuracy: 0.9973 - val_loss: 1.1312 - val_accuracy: 0.7834\n",
            "Epoch 93/100\n",
            "208/208 [==============================] - 81s 388ms/step - loss: 0.0250 - accuracy: 0.9955 - val_loss: 1.0703 - val_accuracy: 0.7930\n",
            "Epoch 94/100\n",
            "208/208 [==============================] - 81s 389ms/step - loss: 0.0263 - accuracy: 0.9967 - val_loss: 1.1194 - val_accuracy: 0.7804\n",
            "Epoch 95/100\n",
            "208/208 [==============================] - 81s 389ms/step - loss: 0.0258 - accuracy: 0.9946 - val_loss: 1.0882 - val_accuracy: 0.7984\n",
            "Epoch 96/100\n",
            "208/208 [==============================] - 81s 389ms/step - loss: 0.0215 - accuracy: 0.9970 - val_loss: 1.0618 - val_accuracy: 0.7930\n",
            "Epoch 97/100\n",
            "208/208 [==============================] - 81s 388ms/step - loss: 0.0251 - accuracy: 0.9976 - val_loss: 1.0518 - val_accuracy: 0.7969\n",
            "Epoch 98/100\n",
            "208/208 [==============================] - 81s 388ms/step - loss: 0.0240 - accuracy: 0.9958 - val_loss: 1.2361 - val_accuracy: 0.7627\n",
            "Epoch 99/100\n",
            "208/208 [==============================] - 81s 389ms/step - loss: 0.0240 - accuracy: 0.9955 - val_loss: 1.0957 - val_accuracy: 0.7888\n",
            "Epoch 100/100\n",
            "208/208 [==============================] - 81s 389ms/step - loss: 0.0243 - accuracy: 0.9970 - val_loss: 1.0832 - val_accuracy: 0.7900\n"
          ]
        },
        {
          "output_type": "execute_result",
          "data": {
            "text/plain": [
              "<keras.callbacks.History at 0x7f7760883050>"
            ]
          },
          "metadata": {},
          "execution_count": 13
        }
      ],
      "source": [
        "batch_size = 16\n",
        "EPOCHS = 100\n",
        "\n",
        "log_dir = \"logs/fit/\" + datetime.datetime.now().strftime(\"%Y%m%d-%H%M%S\")\n",
        "tensorboard_callback = tf.keras.callbacks.TensorBoard(log_dir=log_dir, histogram_freq=1)\n",
        "   \n",
        "print('__TRAINING__')\n",
        "\n",
        "n_steps = train_labels.shape[0] // batch_size\n",
        "model.fit(\n",
        "    train_dataset,\n",
        "    steps_per_epoch = n_steps,\n",
        "    epochs = EPOCHS,\n",
        "    validation_data = val_dataset,\n",
        "    verbose = 1,\n",
        "    callbacks=[tensorboard_callback]\n",
        ")"
      ]
    },
    {
      "cell_type": "markdown",
      "source": [
        "# Model against Test Dataset"
      ],
      "metadata": {
        "id": "jbnLKg1gUbGK"
      }
    },
    {
      "cell_type": "code",
      "execution_count": null,
      "metadata": {
        "id": "Ulfif_hgNuJD",
        "colab": {
          "base_uri": "https://localhost:8080/"
        },
        "outputId": "6511559b-67cf-4aca-ba75-401dd5bdf076"
      },
      "outputs": [
        {
          "output_type": "stream",
          "name": "stdout",
          "text": [
            "209/209 [==============================] - 585s 3s/step\n",
            "Test accuracy on iterations is  79.89798979897989\n"
          ]
        }
      ],
      "source": [
        "def check(x, y):\n",
        "    if x == y:\n",
        "        return 1\n",
        "    else:\n",
        "        return 0\n",
        "pred = model.predict(test_dataset, verbose=1)    \n",
        "test['Prediction'] = pred.argmax(axis=1)\n",
        "test['Score'] = test.apply(lambda x: check(x['Prediction'], x['Labels']), axis=1)\n",
        "print('Test Accuracy: ', 100 * test.Score.sum() / test.shape[0])"
      ]
    },
    {
      "cell_type": "markdown",
      "source": [
        "# Store Model"
      ],
      "metadata": {
        "id": "CVmj3ZmcUv7C"
      }
    },
    {
      "cell_type": "code",
      "execution_count": null,
      "metadata": {
        "id": "8Cmo3j6_NyMm"
      },
      "outputs": [],
      "source": [
        "model.save('/content/drive/MyDrive/DeepLearning/final.h5')  "
      ]
    },
    {
      "cell_type": "markdown",
      "source": [
        "# Live Testing"
      ],
      "metadata": {
        "id": "OalwlWq7U-wz"
      }
    },
    {
      "cell_type": "code",
      "execution_count": 11,
      "metadata": {
        "id": "eYXlnaPCN7at"
      },
      "outputs": [],
      "source": [
        "#Load the saved Model\n",
        "model = load_model('/content/drive/MyDrive/DeepLearning/finall.h5')"
      ]
    },
    {
      "cell_type": "code",
      "execution_count": 12,
      "metadata": {
        "id": "gHxQ24hfOAN_"
      },
      "outputs": [],
      "source": [
        "#Mapping the labels to aircraft models\n",
        "aircraft_map = ['707-320', '727-200', '737-200', '737-300', \n",
        "                '737-400', '737-500', '737-600', '737-700', \n",
        "                '737-800', '737-900', '747-100', '747-200', \n",
        "                '747-300', '747-400', '757-200', '757-300', \n",
        "                '767-200', '767-300', '767-400', '777-200', \n",
        "                '777-300', 'A300B4', 'A310', 'A318', 'A319', \n",
        "                'A320', 'A321', 'A330-200', 'A330-300', \n",
        "                'A340-200', 'A340-300', 'A340-500', 'A340-600', \n",
        "                'A380', 'ATR-42', 'ATR-72', 'An-12', \n",
        "                'BAE 146-200', 'BAE 146-300', 'BAE-125', 'Beechcraft 1900', \n",
        "                'Boeing 717', 'C-130', 'C-47', 'CRJ-200', \n",
        "                'CRJ-700', 'CRJ-900', 'Cessna 172', 'Cessna 208', \n",
        "                'Cessna 525', 'Cessna 560', 'Challenger 600', 'DC-10', \n",
        "                'DC-3', 'DC-6', 'DC-8', 'DC-9-30', \n",
        "                'DH-82', 'DHC-1', 'DHC-6', 'DHC-8-100', \n",
        "                'DHC-8-300', 'DR-400', 'Dornier 328', 'E-170', \n",
        "                'E-190', 'E-195', 'EMB-120', 'ERJ 135', \n",
        "                'ERJ 145', 'Embraer Legacy 600', 'Eurofighter Typhoon', 'F-16A/B', \n",
        "                'F/A-18', 'Falcon 2000', 'Falcon 900', 'Fokker 100', \n",
        "                'Fokker 50', 'Fokker 70', 'Global Express', 'Gulfstream IV', \n",
        "                'Gulfstream V', 'Hawk T1', 'Il-76', 'L-1011', \n",
        "                'MD-11', 'MD-80', 'MD-87', 'MD-90', \n",
        "                'Metroliner', 'Model B200', 'PA-28', 'SR-20', \n",
        "                'Saab 2000', 'Saab 340', 'Spitfire', 'Tornado', \n",
        "                'Tu-134', 'Tu-154', 'Yak-42']"
      ]
    },
    {
      "cell_type": "code",
      "source": [
        "!pip install requests"
      ],
      "metadata": {
        "colab": {
          "base_uri": "https://localhost:8080/"
        },
        "id": "ggs_G1OPlDZQ",
        "outputId": "795b04df-efd5-4a6d-e605-b57a9bede414"
      },
      "execution_count": 17,
      "outputs": [
        {
          "output_type": "stream",
          "name": "stdout",
          "text": [
            "Requirement already satisfied: requests in /usr/local/lib/python3.7/dist-packages (2.23.0)\n",
            "Requirement already satisfied: chardet<4,>=3.0.2 in /usr/local/lib/python3.7/dist-packages (from requests) (3.0.4)\n",
            "Requirement already satisfied: idna<3,>=2.5 in /usr/local/lib/python3.7/dist-packages (from requests) (2.10)\n",
            "Requirement already satisfied: certifi>=2017.4.17 in /usr/local/lib/python3.7/dist-packages (from requests) (2021.10.8)\n",
            "Requirement already satisfied: urllib3!=1.25.0,!=1.25.1,<1.26,>=1.21.1 in /usr/local/lib/python3.7/dist-packages (from requests) (1.24.3)\n"
          ]
        }
      ]
    },
    {
      "cell_type": "code",
      "execution_count": 35,
      "metadata": {
        "id": "iaHpbAcTOC-C"
      },
      "outputs": [],
      "source": [
        "def liveTests():\n",
        "\n",
        "  image_path = '/content/drive/MyDrive/DeepLearning/fgvc-aircraft-2013b/data/images/'\n",
        "  \n",
        "\n",
        "  #test_image = image_path + 'europ.jpg'\n",
        "  #test_image = image_path + 'falcon2k.jpeg'\n",
        "  #test_image = image_path + 'bing73.jpeg'\n",
        "  test_image = image_path + 'a380.jpeg'\n",
        "  \n",
        "\n",
        "  img = image_decode(test_image)\n",
        "  img = np.expand_dims(img, axis=0)\n",
        "\n",
        "\n",
        "  label_num = np.argmax(model.predict(img))\n",
        "\n",
        "  print('Prediction: ' + str(label_num) + ', ' + aircraft_map[label_num])\n",
        "\n",
        "  img_raw =  cv2.imread(test_image)\n",
        "  plt.imshow(cv2.cvtColor(img_raw, cv2.COLOR_BGR2RGB))\n",
        "  plt.show()"
      ]
    },
    {
      "cell_type": "code",
      "execution_count": 36,
      "metadata": {
        "id": "vMrIxmBZOGOX",
        "colab": {
          "base_uri": "https://localhost:8080/",
          "height": 257
        },
        "outputId": "20dd9e98-7b23-486d-cb48-8d43364b60b4"
      },
      "outputs": [
        {
          "output_type": "stream",
          "name": "stdout",
          "text": [
            "Prediction: 33, A380\n"
          ]
        },
        {
          "output_type": "display_data",
          "data": {
            "text/plain": [
              "<Figure size 432x288 with 1 Axes>"
            ],
            "image/png": "[encoded data removed]"
          },
          "metadata": {
            "needs_background": "light"
          }
        }
      ],
      "source": [
        "liveTests()"
      ]
    },
    {
      "cell_type": "markdown",
      "source": [
        "# Graphs"
      ],
      "metadata": {
        "id": "HtFgsZHBVbJ7"
      }
    },
    {
      "cell_type": "code",
      "source": [
        "%tensorboard --logdir logs/fit"
      ],
      "metadata": {
        "id": "h3lAF9ElvVZy"
      },
      "execution_count": null,
      "outputs": []
    }
  ],
  "metadata": {
    "colab": {
      "name": "Improvments-final.ipynb",
      "provenance": [],
      "collapsed_sections": [],
      "machine_shape": "hm"
    },
    "kernelspec": {
      "display_name": "Python 3",
      "name": "python3"
    },
    "language_info": {
      "name": "python"
    },
    "accelerator": "GPU"
  },
  "nbformat": 4,
  "nbformat_minor": 0
}